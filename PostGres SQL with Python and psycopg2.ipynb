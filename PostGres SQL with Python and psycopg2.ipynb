{
 "cells": [
  {
   "cell_type": "code",
   "execution_count": 1,
   "metadata": {},
   "outputs": [
    {
     "name": "stdout",
     "output_type": "stream",
     "text": [
      "Collecting psycopg2-binary\n",
      "  Downloading psycopg2_binary-2.9.1-cp37-cp37m-macosx_10_14_x86_64.macosx_10_9_intel.macosx_10_9_x86_64.macosx_10_10_intel.macosx_10_10_x86_64.whl (2.1 MB)\n",
      "\u001b[K     |████████████████████████████████| 2.1 MB 1.5 MB/s eta 0:00:01\n",
      "\u001b[?25hInstalling collected packages: psycopg2-binary\n",
      "Successfully installed psycopg2-binary-2.9.1\n",
      "Note: you may need to restart the kernel to use updated packages.\n"
     ]
    }
   ],
   "source": [
    "pip install psycopg2-binary"
   ]
  },
  {
   "cell_type": "code",
   "execution_count": 2,
   "metadata": {},
   "outputs": [],
   "source": [
    "import psycopg2 as pg2"
   ]
  },
  {
   "cell_type": "code",
   "execution_count": 4,
   "metadata": {},
   "outputs": [],
   "source": [
    "conn = pg2.connect(database='dvdrental', user='postgres', password='Antivirus2')"
   ]
  },
  {
   "cell_type": "code",
   "execution_count": 5,
   "metadata": {},
   "outputs": [],
   "source": [
    "cur = conn.cursor()"
   ]
  },
  {
   "cell_type": "code",
   "execution_count": 9,
   "metadata": {},
   "outputs": [],
   "source": [
    "cur.execute('SELECT * FROM payment')"
   ]
  },
  {
   "cell_type": "code",
   "execution_count": 10,
   "metadata": {},
   "outputs": [
    {
     "data": {
      "text/plain": [
       "[(17503,\n",
       "  341,\n",
       "  2,\n",
       "  1520,\n",
       "  Decimal('7.99'),\n",
       "  datetime.datetime(2007, 2, 15, 22, 25, 46, 996577)),\n",
       " (17504,\n",
       "  341,\n",
       "  1,\n",
       "  1778,\n",
       "  Decimal('1.99'),\n",
       "  datetime.datetime(2007, 2, 16, 17, 23, 14, 996577)),\n",
       " (17505,\n",
       "  341,\n",
       "  1,\n",
       "  1849,\n",
       "  Decimal('7.99'),\n",
       "  datetime.datetime(2007, 2, 16, 22, 41, 45, 996577)),\n",
       " (17506,\n",
       "  341,\n",
       "  2,\n",
       "  2829,\n",
       "  Decimal('2.99'),\n",
       "  datetime.datetime(2007, 2, 19, 19, 39, 56, 996577)),\n",
       " (17507,\n",
       "  341,\n",
       "  2,\n",
       "  3130,\n",
       "  Decimal('7.99'),\n",
       "  datetime.datetime(2007, 2, 20, 17, 31, 48, 996577)),\n",
       " (17508,\n",
       "  341,\n",
       "  1,\n",
       "  3382,\n",
       "  Decimal('5.99'),\n",
       "  datetime.datetime(2007, 2, 21, 12, 33, 49, 996577)),\n",
       " (17509,\n",
       "  342,\n",
       "  2,\n",
       "  2190,\n",
       "  Decimal('5.99'),\n",
       "  datetime.datetime(2007, 2, 17, 23, 58, 17, 996577)),\n",
       " (17510,\n",
       "  342,\n",
       "  1,\n",
       "  2914,\n",
       "  Decimal('5.99'),\n",
       "  datetime.datetime(2007, 2, 20, 2, 11, 44, 996577)),\n",
       " (17511,\n",
       "  342,\n",
       "  1,\n",
       "  3081,\n",
       "  Decimal('2.99'),\n",
       "  datetime.datetime(2007, 2, 20, 13, 57, 39, 996577)),\n",
       " (17512,\n",
       "  343,\n",
       "  2,\n",
       "  1547,\n",
       "  Decimal('4.99'),\n",
       "  datetime.datetime(2007, 2, 16, 0, 10, 50, 996577))]"
      ]
     },
     "execution_count": 10,
     "metadata": {},
     "output_type": "execute_result"
    }
   ],
   "source": [
    "cur.fetchmany(10)"
   ]
  },
  {
   "cell_type": "code",
   "execution_count": 13,
   "metadata": {},
   "outputs": [
    {
     "data": {
      "text/plain": [
       "Decimal('6.99')"
      ]
     },
     "execution_count": 13,
     "metadata": {},
     "output_type": "execute_result"
    }
   ],
   "source": [
    "data = cur.fetchmany(10)\n",
    "data [0][4]"
   ]
  },
  {
   "cell_type": "code",
   "execution_count": null,
   "metadata": {},
   "outputs": [],
   "source": []
  }
 ],
 "metadata": {
  "kernelspec": {
   "display_name": "Python 3",
   "language": "python",
   "name": "python3"
  },
  "language_info": {
   "codemirror_mode": {
    "name": "ipython",
    "version": 3
   },
   "file_extension": ".py",
   "mimetype": "text/x-python",
   "name": "python",
   "nbconvert_exporter": "python",
   "pygments_lexer": "ipython3",
   "version": "3.7.6"
  }
 },
 "nbformat": 4,
 "nbformat_minor": 4
}
